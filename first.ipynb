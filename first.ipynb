{
 "cells": [
  {
   "cell_type": "markdown",
   "metadata": {},
   "source": [
    "![Project Logo](simpl.png)"
   ]
  },
  {
   "cell_type": "markdown",
   "metadata": {},
   "source": [
    "# Your Project Title\n",
    "\n",
    "\n",
    "<img src=\"dalle.webp\" alt=\"Project Logo\" width=\"100\" height=\"100\">\n",
    "\n",
    "\n",
    "## Description\n",
    "A brief description of your project and its purpose.\n",
    "\n",
    "## Features\n",
    "- Feature 1\n",
    "- Feature 2\n",
    "  - Subfeature A\n",
    "  - Subfeature B\n",
    "\n",
    "## Installation\n",
    "To install the required packages, run:\n",
    "```bash\n",
    "pip install your-package\n"
   ]
  },
  {
   "cell_type": "markdown",
   "metadata": {},
   "source": [
    "## Equations"
   ]
  },
  {
   "cell_type": "markdown",
   "metadata": {},
   "source": [
    "$$\n",
    "E = mc^2\n",
    "$$\n"
   ]
  },
  {
   "cell_type": "markdown",
   "metadata": {},
   "source": []
  }
 ],
 "metadata": {
  "language_info": {
   "name": "python"
  }
 },
 "nbformat": 4,
 "nbformat_minor": 2
}
